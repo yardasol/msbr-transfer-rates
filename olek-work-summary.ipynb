{
 "cells": [
  {
   "cell_type": "markdown",
   "id": "e5e027b7",
   "metadata": {},
   "source": [
    "## MSBR Reference Design"
   ]
  },
  {
   "cell_type": "markdown",
   "id": "2b228cad",
   "metadata": {},
   "source": [
    "The MSBR model contained in this repository is based off of work I did for my M.S. thesis at the University of Illinois Urbana Champaign. See that document for details on the design."
   ]
  },
  {
   "cell_type": "markdown",
   "id": "458f04c8",
   "metadata": {},
   "source": [
    "### MSBR Control rods"
   ]
  },
  {
   "cell_type": "markdown",
   "id": "5c5eddae",
   "metadata": {},
   "source": [
    "The MSBR reference design calls for \"two or more\" graphite control rods. My simulations with OpenMC using the ENDF B/VII.1 cross section library show that the rods as specified in the reference design do not provide significant reactivitiy control.\n",
    "\n",
    "| CR | $k_\\text{eff}$ |\n",
    "| --- | --- |\n",
    "| control rods withdrawn | 1.08283 +/- 0.00034 |\n",
    "| control rods inserted | 1.08491 +/- 0.00033 |\n",
    "\n",
    "In ORNL-4548 Section 6.1.4, the authors report that the difference in $k_\\tetx{eff}$ between the case with control rods fully inserted and the case with control rods fully removed is $\\delta k = k_\\text{in} - k_\\text{out} = +0.0033$. Our OpenMC calculation gives us a value very close to this, with $\\delta k = 1.08491 - 1.08283 = +0.002$. It is important to note that due to the computational limitations of the time, the geometry the authors in ORNL-4548 performed their monte carlo simulation on consisted of the four 6 in x 6 in elements in the center of the reactor and the core elements directly adjacent to them.\n",
    "\n",
    "In M"
   ]
  },
  {
   "cell_type": "code",
   "execution_count": 1,
   "id": "842ccfa6",
   "metadata": {},
   "outputs": [],
   "source": [
    "keff_0 = 1.08283\n",
    "keff_1 = 1.08491\n",
    "\n",
    "p0 = (keff_0 - 1) / keff_0\n",
    "p1 = (keff_1 - 1) / keff_1"
   ]
  },
  {
   "cell_type": "code",
   "execution_count": 5,
   "id": "aad0b878",
   "metadata": {},
   "outputs": [
    {
     "data": {
      "text/plain": [
       "0.002080000000000082"
      ]
     },
     "execution_count": 5,
     "metadata": {},
     "output_type": "execute_result"
    }
   ],
   "source": [
    "keff_1 - keff_0"
   ]
  },
  {
   "cell_type": "code",
   "execution_count": 4,
   "id": "f5ff9ed7",
   "metadata": {},
   "outputs": [
    {
     "data": {
      "text/plain": [
       "-0.002080000000000082"
      ]
     },
     "execution_count": 4,
     "metadata": {},
     "output_type": "execute_result"
    }
   ],
   "source": [
    "keff_0 - keff_1"
   ]
  },
  {
   "cell_type": "markdown",
   "id": "2fa8de9f",
   "metadata": {},
   "source": [
    "$k_\\text{eff}$"
   ]
  },
  {
   "cell_type": "code",
   "execution_count": null,
   "id": "1032f64c",
   "metadata": {},
   "outputs": [],
   "source": []
  }
 ],
 "metadata": {
  "kernelspec": {
   "display_name": "Python 3 (ipykernel)",
   "language": "python",
   "name": "python3"
  },
  "language_info": {
   "codemirror_mode": {
    "name": "ipython",
    "version": 3
   },
   "file_extension": ".py",
   "mimetype": "text/x-python",
   "name": "python",
   "nbconvert_exporter": "python",
   "pygments_lexer": "ipython3",
   "version": "3.11.4"
  }
 },
 "nbformat": 4,
 "nbformat_minor": 5
}
